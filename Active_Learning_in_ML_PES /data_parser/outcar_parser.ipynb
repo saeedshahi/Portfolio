{
  "nbformat": 4,
  "nbformat_minor": 0,
  "metadata": {
    "colab": {
      "provenance": [],
      "authorship_tag": "ABX9TyPAOjnqovjXoTyIhtG48qJv",
      "include_colab_link": true
    },
    "kernelspec": {
      "name": "python3",
      "display_name": "Python 3"
    },
    "language_info": {
      "name": "python"
    }
  },
  "cells": [
    {
      "cell_type": "markdown",
      "metadata": {
        "id": "view-in-github",
        "colab_type": "text"
      },
      "source": [
        "<a href=\"https://colab.research.google.com/github/saeedshahi/Portfolio/blob/main/Active_Learning_in_ML_PES%20/data_parser/outcar_parser.ipynb\" target=\"_parent\"><img src=\"https://colab.research.google.com/assets/colab-badge.svg\" alt=\"Open In Colab\"/></a>"
      ]
    },
    {
      "cell_type": "code",
      "source": [
        "# Mount your Google Drive.\n",
        "from google.colab import drive\n",
        "drive.mount(\"/content/drive\")\n",
        "%cd /content/drive/MyDrive/Projects/Project_data_parser"
      ],
      "metadata": {
        "colab": {
          "base_uri": "https://localhost:8080/"
        },
        "id": "2qnBHhzhKFLf",
        "outputId": "c144a416-b019-4ccd-a323-b337a6ab1f72"
      },
      "execution_count": null,
      "outputs": [
        {
          "output_type": "stream",
          "name": "stdout",
          "text": [
            "Mounted at /content/drive\n",
            "/content/drive/MyDrive/Projects/Project_data_parser\n"
          ]
        }
      ]
    },
    {
      "cell_type": "code",
      "source": [
        "base_path = Path('/content/drive/MyDrive/Projects/Project_data_parser')\n",
        "for file in base_path.rglob('*'):\n",
        "    if file.is_file():\n",
        "        print(file)"
      ],
      "metadata": {
        "colab": {
          "base_uri": "https://localhost:8080/"
        },
        "id": "ALpCR5ZgTNrz",
        "outputId": "9e4420fb-ec33-48a9-fb5a-ba7690c5fb95"
      },
      "execution_count": null,
      "outputs": [
        {
          "output_type": "stream",
          "name": "stdout",
          "text": [
            "/content/drive/MyDrive/Projects/Project_data_parser/OUTCAR\n",
            "/content/drive/MyDrive/Projects/Project_data_parser/outcar_parser.ipynb\n",
            "/content/drive/MyDrive/Projects/Project_data_parser/output/Energies.txt\n",
            "/content/drive/MyDrive/Projects/Project_data_parser/output/Coordinates.txt\n",
            "/content/drive/MyDrive/Projects/Project_data_parser/output/Forces.txt\n"
          ]
        }
      ]
    },
    {
      "cell_type": "code",
      "execution_count": null,
      "metadata": {
        "id": "zRtRGzy1JuZd"
      },
      "outputs": [],
      "source": [
        "import re\n",
        "from pathlib import Path\n",
        "\n",
        "# Define file_path with the current directory\n",
        "file_path = Path.cwd() / 'OUTCAR'\n",
        "\n",
        "def extract_outcar_info(file_path):\n",
        "    energies = []\n",
        "    coordinates_list = []\n",
        "    forces_list = []\n",
        "    coordinates = []\n",
        "    forces = []\n",
        "    is_position_force_section = False\n",
        "    skip_line_count = 0  # Counter to skip lines after the \"FREE ENERGIE...\" line\n",
        "\n",
        "    with open(file_path, 'r') as file:\n",
        "        lines = file.readlines()\n",
        "\n",
        "        for line in lines:\n",
        "            if \"FREE ENERGIE OF THE ION-ELECTRON SYSTEM (eV)\" in line:\n",
        "                skip_line_count = 2  # Set the counter to skip the next two lines\n",
        "                continue\n",
        "\n",
        "            if skip_line_count > 0:  # Skip the line if the counter is greater than 0\n",
        "                skip_line_count -= 1\n",
        "                if skip_line_count == 0:  # If it’s the second line after the \"FREE ENERGIE...\" line\n",
        "                    free_energy_toten_match = re.search(r\"free\\s+energy\\s+TOTEN\\s*=\\s*(-?\\d+\\.\\d+)\", line)\n",
        "                    if free_energy_toten_match:\n",
        "                        energies.append(float(free_energy_toten_match.group(1)))\n",
        "                        if coordinates:\n",
        "                            coordinates_list.append(coordinates)\n",
        "                            coordinates = []\n",
        "                        if forces:\n",
        "                            forces_list.append(forces)\n",
        "                            forces = []\n",
        "\n",
        "            if \"POSITION\" in line and \"TOTAL-FORCE (eV/Angst)\" in line:\n",
        "                is_position_force_section = True\n",
        "                continue\n",
        "\n",
        "            if is_position_force_section:\n",
        "                if line.strip() == \"\":\n",
        "                    is_position_force_section = False\n",
        "                    continue\n",
        "\n",
        "                parts = line.split()\n",
        "                if len(parts) == 6:\n",
        "                    coordinates.append([float(coord) for coord in parts[:3]])\n",
        "                    forces.append([float(force) for force in parts[3:]])\n",
        "\n",
        "        # Append the last set of coordinates and forces to the main list\n",
        "        if coordinates:\n",
        "            coordinates_list.append(coordinates)\n",
        "        if forces:\n",
        "            forces_list.append(forces)\n",
        "\n",
        "    return energies, coordinates_list, forces_list\n",
        "\n",
        "\n",
        "def write_aligned_columns(file_path, data):\n",
        "    max_widths = [0] * len(data[0])  # Initialize the max widths to 0\n",
        "    for row in data:\n",
        "        for i, value in enumerate(row):\n",
        "            max_widths[i] = max(max_widths[i], len(f\"{value:.9f}\"))\n",
        "\n",
        "    with open(file_path, 'w') as file:\n",
        "        for row in data:\n",
        "            file.write(\"    \".join(f\"{value:>{max_widths[i]}.9f}\" for i, value in enumerate(row)))\n",
        "            file.write(\"\\n\")\n",
        "\n",
        "\n",
        "def main():\n",
        "    energies, coordinates_list, forces_list = extract_outcar_info(file_path)\n",
        "\n",
        "    # Define the paths for the output files with the current directory\n",
        "    output_dir_path = Path.cwd() / 'output'\n",
        "    output_dir_path.mkdir(exist_ok=True)  # Create output directory if it does not exist\n",
        "    energy_file_path = output_dir_path / 'Energies.txt'\n",
        "    coordinates_file_path = output_dir_path / 'Coordinates.txt'\n",
        "    forces_file_path = output_dir_path / 'Forces.txt'\n",
        "\n",
        "    # Write all the extracted values to the respective files\n",
        "    with open(energy_file_path, 'w') as energy_file:\n",
        "        for energy in energies:\n",
        "            energy_file.write(f\"{energy:.9f}\\n\")\n",
        "\n",
        "    write_aligned_columns(coordinates_file_path, [coord for coordinates in coordinates_list for coord in coordinates])\n",
        "    write_aligned_columns(forces_file_path, [force for forces in forces_list for force in forces])\n",
        "\n",
        "if __name__ == \"__main__\":\n",
        "    main()"
      ]
    }
  ]
}